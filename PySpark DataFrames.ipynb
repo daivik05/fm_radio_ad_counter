{
  "cells": [
    {
      "cell_type": "code",
      "execution_count": 1,
      "id": "fb37d003",
      "metadata": {
        "id": "fb37d003"
      },
      "outputs": [],
      "source": [
        "from pyspark.sql import SparkSession"
      ]
    },
    {
      "cell_type": "code",
      "execution_count": 2,
      "id": "a1d46445",
      "metadata": {
        "id": "a1d46445"
      },
      "outputs": [],
      "source": [
        "spark=SparkSession.builder.appName('Dataframe').getOrCreate()"
      ]
    },
    {
      "cell_type": "code",
      "execution_count": null,
      "id": "078fccba",
      "metadata": {
        "id": "078fccba",
        "outputId": "1b142cce-7cad-4cf3-9582-a36644cbe50a"
      },
      "outputs": [
        {
          "data": {
            "text/html": [
              "\n",
              "            <div>\n",
              "                <p><b>SparkSession - in-memory</b></p>\n",
              "                \n",
              "        <div>\n",
              "            <p><b>SparkContext</b></p>\n",
              "\n",
              "            <p><a href=\"http://host.docker.internal:4041\">Spark UI</a></p>\n",
              "\n",
              "            <dl>\n",
              "              <dt>Version</dt>\n",
              "                <dd><code>v3.1.1</code></dd>\n",
              "              <dt>Master</dt>\n",
              "                <dd><code>local[*]</code></dd>\n",
              "              <dt>AppName</dt>\n",
              "                <dd><code>Dataframe</code></dd>\n",
              "            </dl>\n",
              "        </div>\n",
              "        \n",
              "            </div>\n",
              "        "
            ],
            "text/plain": [
              "<pyspark.sql.session.SparkSession at 0x1b14e441588>"
            ]
          },
          "execution_count": 3,
          "metadata": {},
          "output_type": "execute_result"
        }
      ],
      "source": [
        "spark"
      ]
    },
    {
      "cell_type": "code",
      "execution_count": null,
      "id": "b7b4a628",
      "metadata": {
        "id": "b7b4a628"
      },
      "outputs": [],
      "source": [
        "df_pyspark=spark.read.option('header','true').csv('test1.csv',inferSchema=True)"
      ]
    },
    {
      "cell_type": "code",
      "execution_count": null,
      "id": "79a95903",
      "metadata": {
        "id": "79a95903",
        "outputId": "f9faff71-be2e-4932-ab49-b3f6441a24f2"
      },
      "outputs": [
        {
          "name": "stdout",
          "output_type": "stream",
          "text": [
            "root\n",
            " |-- Name: string (nullable = true)\n",
            " |-- age: integer (nullable = true)\n",
            " |-- Experience: integer (nullable = true)\n",
            "\n"
          ]
        }
      ],
      "source": [
        "df_pyspark.printSchema()"
      ]
    },
    {
      "cell_type": "code",
      "execution_count": null,
      "id": "8a0d131b",
      "metadata": {
        "id": "8a0d131b",
        "outputId": "d5f92452-e71c-48c1-dab2-d704d9496bd9"
      },
      "outputs": [
        {
          "name": "stdout",
          "output_type": "stream",
          "text": [
            "+---------+---+----------+\n",
            "|     Name|age|Experience|\n",
            "+---------+---+----------+\n",
            "|    Krish| 31|        10|\n",
            "|Sudhanshu| 30|         8|\n",
            "|    Sunny| 29|         4|\n",
            "+---------+---+----------+\n",
            "\n"
          ]
        }
      ],
      "source": [
        "df_pyspark=spark.read.csv('test1.csv',header=True,inferSchema=True)\n",
        "df_pyspark.show()"
      ]
    },
    {
      "cell_type": "code",
      "execution_count": null,
      "id": "47a5a108",
      "metadata": {
        "id": "47a5a108",
        "outputId": "50c48dee-97a8-4e4e-c61b-97bdac17b1ab"
      },
      "outputs": [
        {
          "name": "stdout",
          "output_type": "stream",
          "text": [
            "root\n",
            " |-- Name: string (nullable = true)\n",
            " |-- age: integer (nullable = true)\n",
            " |-- Experience: integer (nullable = true)\n",
            "\n"
          ]
        }
      ],
      "source": [
        "df_pyspark.printSchema()"
      ]
    },
    {
      "cell_type": "code",
      "execution_count": null,
      "id": "19da5885",
      "metadata": {
        "id": "19da5885",
        "outputId": "1d408b6b-1ad8-4a75-e686-fdbd42f646c6"
      },
      "outputs": [
        {
          "data": {
            "text/plain": [
              "pyspark.sql.dataframe.DataFrame"
            ]
          },
          "execution_count": 14,
          "metadata": {},
          "output_type": "execute_result"
        }
      ],
      "source": [
        "type(df_pyspark)"
      ]
    },
    {
      "cell_type": "code",
      "execution_count": null,
      "id": "e4a3c8eb",
      "metadata": {
        "id": "e4a3c8eb",
        "outputId": "08ec4000-2d27-421f-befc-f2c19380abcb"
      },
      "outputs": [
        {
          "data": {
            "text/plain": [
              "[Row(Name='Krish', age=31, Experience=10),\n",
              " Row(Name='Sudhanshu', age=30, Experience=8),\n",
              " Row(Name='Sunny', age=29, Experience=4)]"
            ]
          },
          "execution_count": 16,
          "metadata": {},
          "output_type": "execute_result"
        }
      ],
      "source": [
        "df_pyspark.head(3)"
      ]
    },
    {
      "cell_type": "code",
      "execution_count": null,
      "id": "5523ae24",
      "metadata": {
        "id": "5523ae24",
        "outputId": "939e1bba-e5e4-4cbf-852b-1c4240051040"
      },
      "outputs": [
        {
          "name": "stdout",
          "output_type": "stream",
          "text": [
            "+---------+---+----------+\n",
            "|     Name|age|Experience|\n",
            "+---------+---+----------+\n",
            "|    Krish| 31|        10|\n",
            "|Sudhanshu| 30|         8|\n",
            "|    Sunny| 29|         4|\n",
            "+---------+---+----------+\n",
            "\n"
          ]
        }
      ],
      "source": [
        "df_pyspark.show()"
      ]
    },
    {
      "cell_type": "code",
      "execution_count": null,
      "id": "c513816d",
      "metadata": {
        "id": "c513816d",
        "outputId": "c29eea1c-bbe9-457a-ed9d-43f90763b5d6"
      },
      "outputs": [
        {
          "name": "stdout",
          "output_type": "stream",
          "text": [
            "+---------+----------+\n",
            "|     Name|Experience|\n",
            "+---------+----------+\n",
            "|    Krish|        10|\n",
            "|Sudhanshu|         8|\n",
            "|    Sunny|         4|\n",
            "+---------+----------+\n",
            "\n"
          ]
        }
      ],
      "source": [
        "df_pyspark.select(['Name','Experience']).show()"
      ]
    },
    {
      "cell_type": "code",
      "execution_count": null,
      "id": "a8bd20e3",
      "metadata": {
        "id": "a8bd20e3",
        "outputId": "35ef119e-05fa-411a-fde9-c0f931e1de6a"
      },
      "outputs": [
        {
          "data": {
            "text/plain": [
              "Column<'Name'>"
            ]
          },
          "execution_count": 26,
          "metadata": {},
          "output_type": "execute_result"
        }
      ],
      "source": [
        "df_pyspark['Name']"
      ]
    },
    {
      "cell_type": "code",
      "execution_count": null,
      "id": "c3d42722",
      "metadata": {
        "id": "c3d42722",
        "outputId": "18e8373c-bbab-4829-d541-d22364c3d7f2"
      },
      "outputs": [
        {
          "data": {
            "text/plain": [
              "[('Name', 'string'), ('age', 'int'), ('Experience', 'int')]"
            ]
          },
          "execution_count": 27,
          "metadata": {},
          "output_type": "execute_result"
        }
      ],
      "source": [
        "df_pyspark.dtypes"
      ]
    },
    {
      "cell_type": "code",
      "execution_count": null,
      "id": "fa74b18e",
      "metadata": {
        "id": "fa74b18e",
        "outputId": "8f753b2a-89f9-4b92-b595-4991bed7689e"
      },
      "outputs": [
        {
          "name": "stdout",
          "output_type": "stream",
          "text": [
            "+-------+-----+----+-----------------+\n",
            "|summary| Name| age|       Experience|\n",
            "+-------+-----+----+-----------------+\n",
            "|  count|    3|   3|                3|\n",
            "|   mean| null|30.0|7.333333333333333|\n",
            "| stddev| null| 1.0|3.055050463303893|\n",
            "|    min|Krish|  29|                4|\n",
            "|    max|Sunny|  31|               10|\n",
            "+-------+-----+----+-----------------+\n",
            "\n"
          ]
        }
      ],
      "source": [
        "df_pyspark.describe().show()"
      ]
    },
    {
      "cell_type": "code",
      "execution_count": null,
      "id": "6a8d7b54",
      "metadata": {
        "id": "6a8d7b54"
      },
      "outputs": [],
      "source": [
        "df_pyspark=df_pyspark.withColumn('Experience After 2 year',df_pyspark['Experience']+2)"
      ]
    },
    {
      "cell_type": "code",
      "execution_count": null,
      "id": "e9ff01ed",
      "metadata": {
        "id": "e9ff01ed",
        "outputId": "4fbf7fc2-0d4a-4437-fdcb-833c11dc4a79"
      },
      "outputs": [
        {
          "name": "stdout",
          "output_type": "stream",
          "text": [
            "+---------+---+----------+-----------------------+\n",
            "|     Name|age|Experience|Experience After 2 year|\n",
            "+---------+---+----------+-----------------------+\n",
            "|    Krish| 31|        10|                     12|\n",
            "|Sudhanshu| 30|         8|                     10|\n",
            "|    Sunny| 29|         4|                      6|\n",
            "+---------+---+----------+-----------------------+\n",
            "\n"
          ]
        }
      ],
      "source": [
        "df_pyspark.show()"
      ]
    },
    {
      "cell_type": "code",
      "execution_count": null,
      "id": "d98641db",
      "metadata": {
        "id": "d98641db"
      },
      "outputs": [],
      "source": [
        "df_pyspark=df_pyspark.drop('Experience After 2 year')"
      ]
    },
    {
      "cell_type": "code",
      "execution_count": null,
      "id": "e0a2723f",
      "metadata": {
        "id": "e0a2723f",
        "outputId": "baad4386-1c11-4e75-8467-5341377d7f88"
      },
      "outputs": [
        {
          "name": "stdout",
          "output_type": "stream",
          "text": [
            "+---------+---+----------+\n",
            "|     Name|age|Experience|\n",
            "+---------+---+----------+\n",
            "|    Krish| 31|        10|\n",
            "|Sudhanshu| 30|         8|\n",
            "|    Sunny| 29|         4|\n",
            "+---------+---+----------+\n",
            "\n"
          ]
        }
      ],
      "source": [
        "df_pyspark.show()"
      ]
    },
    {
      "cell_type": "code",
      "execution_count": null,
      "id": "5432faa1",
      "metadata": {
        "id": "5432faa1",
        "outputId": "20a7e014-1331-4814-a116-bc805a3d3723"
      },
      "outputs": [
        {
          "name": "stdout",
          "output_type": "stream",
          "text": [
            "+---------+---+----------+\n",
            "| New Name|age|Experience|\n",
            "+---------+---+----------+\n",
            "|    Krish| 31|        10|\n",
            "|Sudhanshu| 30|         8|\n",
            "|    Sunny| 29|         4|\n",
            "+---------+---+----------+\n",
            "\n"
          ]
        }
      ],
      "source": [
        "df_pyspark.withColumnRenamed('Name','New Name').show()"
      ]
    },
    {
      "cell_type": "code",
      "execution_count": null,
      "id": "2e5b7d72",
      "metadata": {
        "id": "2e5b7d72"
      },
      "outputs": [],
      "source": []
    }
  ],
  "metadata": {
    "kernelspec": {
      "display_name": "Python 3",
      "language": "python",
      "name": "python3"
    },
    "language_info": {
      "codemirror_mode": {
        "name": "ipython",
        "version": 3
      },
      "file_extension": ".py",
      "mimetype": "text/x-python",
      "name": "python",
      "nbconvert_exporter": "python",
      "pygments_lexer": "ipython3",
      "version": "3.7.10"
    },
    "colab": {
      "provenance": []
    }
  },
  "nbformat": 4,
  "nbformat_minor": 5
}